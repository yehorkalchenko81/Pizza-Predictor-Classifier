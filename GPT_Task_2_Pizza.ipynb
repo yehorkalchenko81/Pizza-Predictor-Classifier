{
  "nbformat": 4,
  "nbformat_minor": 0,
  "metadata": {
    "colab": {
      "provenance": [],
      "authorship_tag": "ABX9TyORBMAuebiCFMwnuEQs4JGP"
    },
    "kernelspec": {
      "name": "python3",
      "display_name": "Python 3"
    },
    "language_info": {
      "name": "python"
    }
  },
  "cells": [
    {
      "cell_type": "code",
      "execution_count": 26,
      "metadata": {
        "id": "LnWrIzxfuv00"
      },
      "outputs": [],
      "source": [
        "import pandas as pd\n",
        "import numpy as np\n",
        "from sklearn.model_selection import train_test_split\n",
        "from sklearn.ensemble import RandomForestRegressor\n",
        "from sklearn.metrics import accuracy_score, precision_score, recall_score, f1_score, classification_report"
      ]
    },
    {
      "cell_type": "code",
      "source": [
        "df = pd.read_csv('dataset.csv')\n",
        "\n",
        "X = df[['name', 'size', 'price']]\n",
        "X = pd.get_dummies(X, columns=['name', 'size'])\n",
        "\n",
        "y = df['type']\n",
        "types = list(set(y))\n",
        "types = {type_: idx for idx, type_ in enumerate(types)}\n",
        "y = y.map(types).values"
      ],
      "metadata": {
        "id": "dF0dILyyu9ap"
      },
      "execution_count": 27,
      "outputs": []
    },
    {
      "cell_type": "code",
      "source": [
        "X_train, X_test, y_train, y_test = train_test_split(X, y)"
      ],
      "metadata": {
        "id": "SHSVLXLHv4W9"
      },
      "execution_count": 28,
      "outputs": []
    },
    {
      "cell_type": "code",
      "source": [
        "model_rf = RandomForestRegressor()\n",
        "model_rf.fit(X_train, y_train)\n",
        "\n",
        "y_pred_rf = model_rf.predict(X_test)"
      ],
      "metadata": {
        "id": "JVhJ7OHmztSE"
      },
      "execution_count": 29,
      "outputs": []
    },
    {
      "cell_type": "code",
      "source": [
        "accuracy_rf = accuracy_score(y_test, y_pred_rf)\n",
        "precision_rf = precision_score(y_test, y_pred_rf, average='weighted', zero_division=1)\n",
        "recall_rf = recall_score(y_test, y_pred_rf, average='weighted', zero_division=1)\n",
        "f1_rf = f1_score(y_test, y_pred_rf, average='weighted')\n",
        "\n",
        "print(f\"Процент правильних відповідей (Random Forest): {accuracy_rf * 100:.2f}%\")\n",
        "print(f\"Precision (Random Forest): {precision_rf * 100:.2f}%\")\n",
        "print(f\"Recall (Random Forest): {recall_rf * 100:.2f}%\")\n",
        "print(f\"F1 Score (Random Forest): {f1_rf * 100:.2f}%\")"
      ],
      "metadata": {
        "colab": {
          "base_uri": "https://localhost:8080/"
        },
        "id": "EdGeVN5v0nSL",
        "outputId": "52073f67-afec-4df9-a078-12f07461f455"
      },
      "execution_count": 31,
      "outputs": [
        {
          "output_type": "stream",
          "name": "stdout",
          "text": [
            "Процент правильних відповідей (Random Forest): 100.00%\n",
            "Precision (Random Forest): 100.00%\n",
            "Recall (Random Forest): 100.00%\n",
            "F1 Score (Random Forest): 100.00%\n"
          ]
        }
      ]
    }
  ]
}